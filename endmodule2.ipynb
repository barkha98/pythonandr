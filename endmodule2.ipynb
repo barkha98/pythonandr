{
  "nbformat": 4,
  "nbformat_minor": 0,
  "metadata": {
    "colab": {
      "name": "endmodule2.ipynb",
      "provenance": []
    },
    "kernelspec": {
      "name": "python3",
      "display_name": "Python 3"
    },
    "language_info": {
      "name": "python"
    }
  },
  "cells": [
    {
      "cell_type": "code",
      "execution_count": null,
      "metadata": {
        "id": "HhVAPKe4nTjS"
      },
      "outputs": [],
      "source": [
        ""
      ]
    },
    {
      "cell_type": "markdown",
      "source": [
        "1. Convert given hrs & mins in second"
      ],
      "metadata": {
        "id": "2UFs7QAPn_z0"
      }
    },
    {
      "cell_type": "code",
      "source": [
        "hr = int(input(\"enter the hours: \"))\n",
        "min = int(input(\"enter the minutes: \"))\n",
        "sec = (hr*3600)+(min*60)\n",
        "sec = (hr*3600)+(min*60)\n",
        "print(hr, 'hours and',min,'minutes are total',sec,'seconds')"
      ],
      "metadata": {
        "colab": {
          "base_uri": "https://localhost:8080/"
        },
        "id": "FWIgUnK-oUbU",
        "outputId": "f3ceed4f-c5a0-4991-889e-15f17ac47c30"
      },
      "execution_count": 1,
      "outputs": [
        {
          "output_type": "stream",
          "name": "stdout",
          "text": [
            "enter the hours: 3\n",
            "enter the minutes: 30\n",
            "3 hours and 30 minutes are total 12600 seconds\n"
          ]
        }
      ]
    },
    {
      "cell_type": "markdown",
      "source": [
        "2. Write code to find the average of ‘n’\n",
        "numbers entered by the user to function avg ( ).\n"
      ],
      "metadata": {
        "id": "_i0vjy2_pRHB"
      }
    },
    {
      "cell_type": "code",
      "source": [
        "def avg():\n",
        "  num = int(input(\"enter the numbers: \"))\n",
        "  total = 0\n",
        "  for n in range(num):\n",
        "    numbers = float(input(\"enters the number: \"))\n",
        "    total+=numbers\n",
        "  avg = total/num\n",
        "  print(\"the avg of numbers is: \",avg)"
      ],
      "metadata": {
        "id": "sJUMQN5ApVmv"
      },
      "execution_count": 6,
      "outputs": []
    },
    {
      "cell_type": "code",
      "source": [
        "avg()"
      ],
      "metadata": {
        "colab": {
          "base_uri": "https://localhost:8080/"
        },
        "id": "aGydyQj-q9mH",
        "outputId": "7d946d2a-942d-4197-f5ef-d482cdde992d"
      },
      "execution_count": 8,
      "outputs": [
        {
          "output_type": "stream",
          "name": "stdout",
          "text": [
            "enter the numbers: 2\n",
            "enters the number: 3\n",
            "enters the number: 4\n",
            "the avg of numbers is:  3.5\n"
          ]
        }
      ]
    },
    {
      "cell_type": "markdown",
      "source": [
        "3. Convert Paise in Rupees &\n",
        "Paises"
      ],
      "metadata": {
        "id": "496GMSNmrIjA"
      }
    },
    {
      "cell_type": "code",
      "source": [
        "p = 100\n",
        "rs = int(input(\"enter the amount in rupees: \"))\n",
        "total = rs*p\n",
        "print(total,\"paise\")"
      ],
      "metadata": {
        "colab": {
          "base_uri": "https://localhost:8080/"
        },
        "id": "D2Z_rG-qrmGr",
        "outputId": "9463c084-2e67-4e83-e22f-b6460fb8c3ae"
      },
      "execution_count": 9,
      "outputs": [
        {
          "output_type": "stream",
          "name": "stdout",
          "text": [
            "enter the amount in rupees: 4\n",
            "400 paise\n"
          ]
        }
      ]
    },
    {
      "cell_type": "markdown",
      "source": [
        "4. Accept String & print only alternate\n",
        "characters on a string."
      ],
      "metadata": {
        "id": "nf_iX8d81Ops"
      }
    },
    {
      "cell_type": "code",
      "source": [
        "s = input(\"enter the string: \")\n",
        "print(\"1st method\")\n",
        "for i in s:\n",
        "  if((s.index(i)%2)!=0):\n",
        "    print(i)\n",
        "print(\"2nd number\")\n",
        "print(s[1::2])"
      ],
      "metadata": {
        "colab": {
          "base_uri": "https://localhost:8080/"
        },
        "id": "tgSxdIOCunbe",
        "outputId": "a82d29ee-2e12-44bb-f4cd-2c3b0e998d8b"
      },
      "execution_count": 28,
      "outputs": [
        {
          "output_type": "stream",
          "name": "stdout",
          "text": [
            "enter the string: barkha\n",
            "1st method\n",
            "a\n",
            "k\n",
            "a\n",
            "2nd number\n",
            "aka\n"
          ]
        }
      ]
    },
    {
      "cell_type": "markdown",
      "source": [
        "5. draw a pattern"
      ],
      "metadata": {
        "id": "We_EBhVy0DOg"
      }
    },
    {
      "cell_type": "code",
      "source": [
        "row = 5\n",
        "i = 1\n",
        "while(i<=row):\n",
        "  j = 1\n",
        "  while(j<=i):\n",
        "    print((i*2-1),end=\" \")\n",
        "    j = j+1\n",
        "  i = i+1\n",
        "  print(\" \")"
      ],
      "metadata": {
        "colab": {
          "base_uri": "https://localhost:8080/"
        },
        "id": "G6gCwJGZvSoh",
        "outputId": "79d2ff73-6f44-4f38-afbb-f9ab67ee5390"
      },
      "execution_count": 14,
      "outputs": [
        {
          "output_type": "stream",
          "name": "stdout",
          "text": [
            "1  \n",
            "3 3  \n",
            "5 5 5  \n",
            "7 7 7 7  \n",
            "9 9 9 9 9  \n"
          ]
        }
      ]
    },
    {
      "cell_type": "markdown",
      "source": [
        "6. Write a code to accept a number & print in words"
      ],
      "metadata": {
        "id": "J-2E-UH218re"
      }
    },
    {
      "cell_type": "code",
      "source": [
        "n=int(input(\"Enter the digit form 0 to 9 : \"))\n",
        "print(\"Entered Digit is : \",end='')\n",
        "if n==0:\n",
        "    print(\"Zero\")\n",
        "elif n==1:\n",
        "    print(\"One\")\n",
        "elif n==2:\n",
        "    print(\"Two\")\n",
        "elif n==3:\n",
        "    print(\"Three\")\n",
        "elif n==4:\n",
        "    print(\"Four\")\n",
        "elif n==5:\n",
        "    print(\"Five\")\n",
        "elif n==6:\n",
        "    print(\"Six\")\n",
        "elif n==7:\n",
        "    print(\"Seven\")\n",
        "elif n==8:\n",
        "    print(\"Eight\")\n",
        "elif n==9:\n",
        "    print(\"Nine\")\n",
        "else:\n",
        "    print(\"Not a Digit\")"
      ],
      "metadata": {
        "colab": {
          "base_uri": "https://localhost:8080/"
        },
        "id": "41gx5tRc4x_f",
        "outputId": "31dc6d93-aa2b-4907-a858-d428f4bb7507"
      },
      "execution_count": 27,
      "outputs": [
        {
          "output_type": "stream",
          "name": "stdout",
          "text": [
            "Enter the digit form 0 to 9 : 3\n",
            "Entered Digit is : Three\n"
          ]
        }
      ]
    },
    {
      "cell_type": "markdown",
      "source": [
        "# New section"
      ],
      "metadata": {
        "id": "WmkYJ4laEQl3"
      }
    }
  ]
}